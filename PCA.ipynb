{
  "nbformat": 4,
  "nbformat_minor": 0,
  "metadata": {
    "colab": {
      "name": "PCA.ipynb",
      "provenance": [],
      "authorship_tag": "ABX9TyM4HEooF6xmgRFA5XhcOmo2",
      "include_colab_link": true
    },
    "kernelspec": {
      "name": "python3",
      "display_name": "Python 3"
    }
  },
  "cells": [
    {
      "cell_type": "markdown",
      "metadata": {
        "id": "view-in-github",
        "colab_type": "text"
      },
      "source": [
        "<a href=\"https://colab.research.google.com/github/s-k-sharma/CS208/blob/master/PCA.ipynb\" target=\"_parent\"><img src=\"https://colab.research.google.com/assets/colab-badge.svg\" alt=\"Open In Colab\"/></a>"
      ]
    },
    {
      "cell_type": "code",
      "metadata": {
        "id": "qnQNEVX1sWU5",
        "colab_type": "code",
        "colab": {}
      },
      "source": [
        "import numpy as np\n",
        "import pandas as pd\n",
        "import matplotlib.pyplot as plt"
      ],
      "execution_count": 1,
      "outputs": []
    },
    {
      "cell_type": "code",
      "metadata": {
        "id": "g3K0imTbvpDz",
        "colab_type": "code",
        "colab": {}
      },
      "source": [
        "import io\n",
        "data = pd.read_csv('AMZN-DUK-KO.csv')"
      ],
      "execution_count": 2,
      "outputs": []
    },
    {
      "cell_type": "code",
      "metadata": {
        "id": "oIJdmQWK2l7A",
        "colab_type": "code",
        "colab": {
          "base_uri": "https://localhost:8080/",
          "height": 85
        },
        "outputId": "d4ff665c-e8d0-4aa4-f9c0-54742eec9c09"
      },
      "source": [
        "print(data.head(2))\n",
        "print(\"The shape of sample data = \", data.shape)"
      ],
      "execution_count": 3,
      "outputs": [
        {
          "output_type": "stream",
          "text": [
            "         Date       AMZN        DUK         KO\n",
            "0  03-01-2007  38.700001  34.971017  17.874906\n",
            "1  04-01-2007  38.900002  35.044103  17.882263\n",
            "The shape of sample data =  (2519, 4)\n"
          ],
          "name": "stdout"
        }
      ]
    },
    {
      "cell_type": "code",
      "metadata": {
        "id": "UKVNzIwj8rRc",
        "colab_type": "code",
        "colab": {
          "base_uri": "https://localhost:8080/",
          "height": 34
        },
        "outputId": "43f13518-4d85-45c6-db94-264b4cbd3aa8"
      },
      "source": [
        "Date = data['Date']\n",
        "# Droping data parameter\n",
        "f_data = data.drop(\"Date\",axis=1)\n",
        "print(f_data.shape)"
      ],
      "execution_count": 4,
      "outputs": [
        {
          "output_type": "stream",
          "text": [
            "(2519, 3)\n"
          ],
          "name": "stdout"
        }
      ]
    },
    {
      "cell_type": "code",
      "metadata": {
        "id": "pDT_pRNg4Ufh",
        "colab_type": "code",
        "colab": {
          "base_uri": "https://localhost:8080/",
          "height": 34
        },
        "outputId": "3f09be74-f11b-4ec1-82f5-4d49d2ddf259"
      },
      "source": [
        "# standrizing the data\n",
        "import numpy\n",
        "from sklearn.preprocessing import StandardScaler\n",
        "standardized_data = StandardScaler().fit_transform(f_data)\n",
        "print(standardized_data.shape)"
      ],
      "execution_count": 5,
      "outputs": [
        {
          "output_type": "stream",
          "text": [
            "(2519, 3)\n"
          ],
          "name": "stdout"
        }
      ]
    },
    {
      "cell_type": "code",
      "metadata": {
        "id": "ynnDma739vpc",
        "colab_type": "code",
        "colab": {
          "base_uri": "https://localhost:8080/",
          "height": 85
        },
        "outputId": "22b437c0-37c7-430e-ed6c-4f279ccd66e9"
      },
      "source": [
        "#find the co-variance matrix which is\n",
        "sample_data = standardized_data\n",
        "# matrix multiplication using numpy\n",
        "covar_matrix = numpy.cov(standardized_data.T)\n",
        "print(covar_matrix)\n",
        "print ( \"The shape of variance matrix = \", covar_matrix.shape)\n"
      ],
      "execution_count": 6,
      "outputs": [
        {
          "output_type": "stream",
          "text": [
            "[[1.00039714 0.89210261 0.88585829]\n",
            " [0.89210261 1.00039714 0.97559994]\n",
            " [0.88585829 0.97559994 1.00039714]]\n",
            "The shape of variance matrix =  (3, 3)\n"
          ],
          "name": "stdout"
        }
      ]
    },
    {
      "cell_type": "code",
      "metadata": {
        "id": "k3Qg_b9J-Yny",
        "colab_type": "code",
        "colab": {
          "base_uri": "https://localhost:8080/",
          "height": 51
        },
        "outputId": "f6bc1151-9049-4ac7-ad25-a9dfcdbdc594"
      },
      "source": [
        "# finding the top two eigen-values and corresponding eigen-vectors \n",
        "# for projecting onto a 2-Dim space.\n",
        "\n",
        "from scipy.linalg import eigh \n",
        "# the parameter 'eigvals' is defined (low value to heigh value) \n",
        "# eigh function will return the eigen values in asending order\n",
        "# this code generates only the top 2 (1 and 2) eigenvalues.\n",
        "values, vectors = eigh(covar_matrix, eigvals=(1,2))\n",
        "allvalues, allvectors = eigh(covar_matrix)\n",
        "print(\"Shape of eigen vectors = \",vectors.shape)\n",
        "# converting the eigen vectors into (2,d) shape for easyness of further computations\n",
        "vectors = vectors.T\n",
        "print(\"Updated shape of eigen vectors = \",vectors.shape)\n",
        "# here the vectors[1] represent the eigen vector corresponding 1st principal eigen vector\n",
        "# here the vectors[0] represent the eigen vector corresponding 2nd principal eigen vector"
      ],
      "execution_count": 7,
      "outputs": [
        {
          "output_type": "stream",
          "text": [
            "Shape of eigen vectors =  (3, 2)\n",
            "Updated shape of eigen vectors =  (2, 3)\n"
          ],
          "name": "stdout"
        }
      ]
    },
    {
      "cell_type": "code",
      "metadata": {
        "id": "PoQ9a-Bz_e42",
        "colab_type": "code",
        "colab": {
          "base_uri": "https://localhost:8080/",
          "height": 34
        },
        "outputId": "1934424f-96a7-4e86-8cf0-a6c9c38d0042"
      },
      "source": [
        "# projecting the original data sample on the plane \n",
        "#formed by two principal eigen vectors by vector-vector multiplication.\n",
        "\n",
        "import matplotlib.pyplot as plt\n",
        "new_coordinates = np.matmul(vectors, sample_data.T)\n",
        "\n",
        "print (\" resultanat new data points' shape \", vectors.shape, \"X\", sample_data.T.shape,\" = \", new_coordinates.shape)"
      ],
      "execution_count": 8,
      "outputs": [
        {
          "output_type": "stream",
          "text": [
            " resultanat new data points' shape  (2, 3) X (3, 2519)  =  (2, 2519)\n"
          ],
          "name": "stdout"
        }
      ]
    },
    {
      "cell_type": "code",
      "metadata": {
        "id": "qw5oL7QJ_oSG",
        "colab_type": "code",
        "colab": {
          "base_uri": "https://localhost:8080/",
          "height": 119
        },
        "outputId": "8f04d8fc-ac1a-43f0-e9f8-1e2da34fbe5c"
      },
      "source": [
        "import pandas as pd\n",
        "new_coordinates = np.vstack(new_coordinates).T\n",
        "# creating a new data frame for ploting \n",
        "dataframe = pd.DataFrame(data=new_coordinates,columns=(\"1st\", \"2nd\"))\n",
        "print(dataframe.head())"
      ],
      "execution_count": 9,
      "outputs": [
        {
          "output_type": "stream",
          "text": [
            "        1st       2nd\n",
            "0  0.056178  2.024540\n",
            "1  0.054887  2.020753\n",
            "2  0.078214  2.060750\n",
            "3  0.067575  2.053261\n",
            "4  0.071927  2.057544\n"
          ],
          "name": "stdout"
        }
      ]
    },
    {
      "cell_type": "code",
      "metadata": {
        "id": "osdN-1tdAxHY",
        "colab_type": "code",
        "colab": {
          "base_uri": "https://localhost:8080/",
          "height": 296
        },
        "outputId": "c595824d-6f11-4475-b35d-6768029858c1"
      },
      "source": [
        "import matplotlib.pyplot as plt\n",
        "ax1 = dataframe.plot.scatter(x='1st',y='2nd',s=2,c='red')\n",
        "print(\"Covarience\",(sum(values)/sum(allvalues))*100,\"%\")\n",
        "plt.show()"
      ],
      "execution_count": 10,
      "outputs": [
        {
          "output_type": "stream",
          "text": [
            "Covarience 99.1776748178109 %\n"
          ],
          "name": "stdout"
        },
        {
          "output_type": "display_data",
          "data": {
            "image/png": "[encoded data removed]",
            "text/plain": [
              "<Figure size 432x288 with 1 Axes>"
            ]
          },
          "metadata": {
            "tags": [],
            "needs_background": "light"
          }
        }
      ]
    },
    {
      "cell_type": "markdown",
      "metadata": {
        "id": "xTU2XiBtAScL",
        "colab_type": "text"
      },
      "source": [
        "## Using Correlation "
      ]
    },
    {
      "cell_type": "code",
      "metadata": {
        "id": "qFm2Jo70Ac7W",
        "colab_type": "code",
        "colab": {}
      },
      "source": [
        ""
      ],
      "execution_count": null,
      "outputs": []
    },
    {
      "cell_type": "code",
      "metadata": {
        "id": "pqrcqHBTDbja",
        "colab_type": "code",
        "colab": {
          "base_uri": "https://localhost:8080/",
          "height": 85
        },
        "outputId": "6dc37715-d574-4528-d8d1-260aa1de23b9"
      },
      "source": [
        "# Geeting correlation matrix\n",
        "corr = pd.DataFrame.corr(f_data)\n",
        "print(corr)"
      ],
      "execution_count": 12,
      "outputs": [
        {
          "output_type": "stream",
          "text": [
            "          AMZN       DUK        KO\n",
            "AMZN  1.000000  0.891748  0.885507\n",
            "DUK   0.891748  1.000000  0.975213\n",
            "KO    0.885507  0.975213  1.000000\n"
          ],
          "name": "stdout"
        }
      ]
    },
    {
      "cell_type": "code",
      "metadata": {
        "id": "JfAb_HfHGl0h",
        "colab_type": "code",
        "colab": {
          "base_uri": "https://localhost:8080/",
          "height": 119
        },
        "outputId": "13a18b7f-a8ac-4ea6-e748-8a41d13d98b6"
      },
      "source": [
        "from scipy.linalg import eigh \n",
        "values, vectors = eigh(corr)\n",
        "print(\"Shape of eigen vectors = \",vectors.shape)\n",
        "print(\"Updated shape of eigen vectors = \",vectors.shape)\n",
        "print(values,\"\\n\",vectors)\n",
        "sum_eign=sum(values)"
      ],
      "execution_count": 13,
      "outputs": [
        {
          "output_type": "stream",
          "text": [
            "Shape of eigen vectors =  (3, 3)\n",
            "Updated shape of eigen vectors =  (3, 3)\n",
            "[0.02466976 0.13973145 2.83559879] \n",
            " [[ 0.02663121  0.82471456 -0.56492184]\n",
            " [-0.71888449 -0.37688389 -0.58409213]\n",
            " [ 0.69461922 -0.42166863 -0.58283763]]\n"
          ],
          "name": "stdout"
        }
      ]
    },
    {
      "cell_type": "code",
      "metadata": {
        "id": "BK9n7FTZIgtH",
        "colab_type": "code",
        "colab": {}
      },
      "source": [
        "# I tool two feature and possible all combinations and ploting the graph\n",
        "values1, vectors1 = eigh(covar_matrix, eigvals=(0,1))\n",
        "values2, vectors2 = eigh(covar_matrix, eigvals=(1,2))\n",
        "values3, vectors3= eigh(covar_matrix)\n",
        "values3=np.delete(values3,1,axis=0)\n",
        "vectors3=np.delete(vectors3,1,axis=1)\n",
        "#print(vectors3)\n",
        "#print(values1,values2,values3)\n",
        "vectors1=vectors1.T\n",
        "vectors2=vectors2.T\n",
        "vectors3=vectors3.T"
      ],
      "execution_count": 14,
      "outputs": []
    },
    {
      "cell_type": "code",
      "metadata": {
        "id": "Sk8Jw135SGKB",
        "colab_type": "code",
        "colab": {
          "base_uri": "https://localhost:8080/",
          "height": 68
        },
        "outputId": "370eb9b6-5280-4f5b-a8fc-40c98dab109a"
      },
      "source": [
        "# projecting the original data sample on the plane \n",
        "#formed by two principal eigen vectors by vector-vector multiplication.\n",
        "\n",
        "import matplotlib.pyplot as plt\n",
        "new_coordinates1 = np.matmul(vectors1, sample_data.T)\n",
        "new_coordinates2 = np.matmul(vectors2, sample_data.T)\n",
        "new_coordinates3 = np.matmul(vectors3, sample_data.T)\n",
        "\n",
        "print (\" resultanat new data points' shape 1\", vectors1.shape, \"X\", sample_data.T.shape,\" = \", new_coordinates1.shape)\n",
        "print (\" resultanat new data points' shape 2\", vectors2.shape, \"X\", sample_data.T.shape,\" = \", new_coordinates2.shape)\n",
        "print (\" resultanat new data points' shape 3\", vectors3.shape, \"X\", sample_data.T.shape,\" = \", new_coordinates3.shape)"
      ],
      "execution_count": 15,
      "outputs": [
        {
          "output_type": "stream",
          "text": [
            " resultanat new data points' shape 1 (2, 3) X (3, 2519)  =  (2, 2519)\n",
            " resultanat new data points' shape 2 (2, 3) X (3, 2519)  =  (2, 2519)\n",
            " resultanat new data points' shape 3 (2, 3) X (3, 2519)  =  (2, 2519)\n"
          ],
          "name": "stdout"
        }
      ]
    },
    {
      "cell_type": "code",
      "metadata": {
        "id": "0WdMTN0NTzNe",
        "colab_type": "code",
        "colab": {
          "base_uri": "https://localhost:8080/",
          "height": 323
        },
        "outputId": "1af52366-18ee-43f8-c3ed-33587a092154"
      },
      "source": [
        "import pandas as pd\n",
        "new_coordinates1 = np.vstack(new_coordinates1).T\n",
        "# creating a new data frame for ploting \n",
        "dataframe1 = pd.DataFrame(data=new_coordinates1,columns=(\"1st\", \"2nd\"))\n",
        "print(dataframe1.head())\n",
        "new_coordinates2 = np.vstack(new_coordinates2).T\n",
        "dataframe2 = pd.DataFrame(data=new_coordinates2,columns=(\"1st\", \"2nd\"))\n",
        "print(dataframe2.head())\n",
        "new_coordinates3 = np.vstack(new_coordinates3).T\n",
        "dataframe3 = pd.DataFrame(data=new_coordinates3,columns=(\"1st\", \"2nd\"))\n",
        "print(dataframe3.head())"
      ],
      "execution_count": 16,
      "outputs": [
        {
          "output_type": "stream",
          "text": [
            "        1st       2nd\n",
            "0 -0.291739  0.056178\n",
            "1 -0.294439  0.054887\n",
            "2 -0.268174  0.078214\n",
            "3 -0.261352  0.067575\n",
            "4 -0.252592  0.071927\n",
            "        1st       2nd\n",
            "0  0.056178  2.024540\n",
            "1  0.054887  2.020753\n",
            "2  0.078214  2.060750\n",
            "3  0.067575  2.053261\n",
            "4  0.071927  2.057544\n",
            "        1st       2nd\n",
            "0 -0.291739 -2.024540\n",
            "1 -0.294439 -2.020753\n",
            "2 -0.268174 -2.060750\n",
            "3 -0.261352 -2.053261\n",
            "4 -0.252592 -2.057544\n"
          ],
          "name": "stdout"
        }
      ]
    },
    {
      "cell_type": "code",
      "metadata": {
        "id": "hoNL1UgaAg1k",
        "colab_type": "code",
        "colab": {
          "base_uri": "https://localhost:8080/",
          "height": 279
        },
        "outputId": "1d6f7f82-1f6c-4a2b-954e-ca9b89020fb7"
      },
      "source": [
        "from sklearn.decomposition import PCA\n",
        "pca = PCA().fit(f_data)\n",
        "plt.plot(np.cumsum(pca.explained_variance_ratio_)*100)\n",
        "plt.xlabel('number of components')\n",
        "plt.ylabel('cumulative variance %');"
      ],
      "execution_count": 13,
      "outputs": [
        {
          "output_type": "display_data",
          "data": {
            "image/png": "[encoded data removed]",
            "text/plain": [
              "<Figure size 432x288 with 1 Axes>"
            ]
          },
          "metadata": {
            "tags": [],
            "needs_background": "light"
          }
        }
      ]
    },
    {
      "cell_type": "code",
      "metadata": {
        "id": "mg95Dw8HUsDL",
        "colab_type": "code",
        "colab": {
          "base_uri": "https://localhost:8080/",
          "height": 854
        },
        "outputId": "ec13e4a2-636b-42e1-88cd-c06df4193cda"
      },
      "source": [
        "import matplotlib.pyplot as plt\n",
        "ax1 = dataframe1.plot.scatter(x='1st',y='2nd',s=2,c='red')\n",
        "print(\"Covarience\",(sum(values1)/sum_eign)*100,\"%\")\n",
        "plt.show()\n",
        "ax1 = dataframe2.plot.scatter(x='1st',y='2nd',s=2,c='red')\n",
        "print(\"Covarience\",(sum(values2)/sum_eign)*100,\"%\")\n",
        "plt.show()\n",
        "ax1 = dataframe3.plot.scatter(x='1st',y='2nd',s=2,c='red')\n",
        "print(\"Covarience\",(sum(values3)/sum_eign)*100,\"%\")\n",
        "plt.show()"
      ],
      "execution_count": 17,
      "outputs": [
        {
          "output_type": "stream",
          "text": [
            "Covarience 5.4822165940678795 %\n"
          ],
          "name": "stdout"
        },
        {
          "output_type": "display_data",
          "data": {
            "image/png": "[encoded data removed]",
            "text/plain": [
              "<Figure size 432x288 with 1 Axes>"
            ]
          },
          "metadata": {
            "tags": [],
            "needs_background": "light"
          }
        },
        {
          "output_type": "stream",
          "text": [
            "Covarience 99.21706229788153 %\n"
          ],
          "name": "stdout"
        },
        {
          "output_type": "display_data",
          "data": {
            "image/png": "[encoded data removed]",
            "text/plain": [
              "<Figure size 432x288 with 1 Axes>"
            ]
          },
          "metadata": {
            "tags": [],
            "needs_background": "light"
          }
        },
        {
          "output_type": "stream",
          "text": [
            "Covarience 95.38014922560423 %\n"
          ],
          "name": "stdout"
        },
        {
          "output_type": "display_data",
          "data": {
            "image/png": "[encoded data removed]",
            "text/plain": [
              "<Figure size 432x288 with 1 Axes>"
            ]
          },
          "metadata": {
            "tags": [],
            "needs_background": "light"
          }
        }
      ]
    },
    {
      "cell_type": "code",
      "metadata": {
        "id": "-loKSYkg0cwy",
        "colab_type": "code",
        "colab": {}
      },
      "source": [
        ""
      ],
      "execution_count": 17,
      "outputs": []
    }
  ]
}